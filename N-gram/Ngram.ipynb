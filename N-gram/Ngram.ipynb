{
 "cells": [
  {
   "cell_type": "markdown",
   "metadata": {},
   "source": [
    "# **N-Gram Model**"
   ]
  },
  {
   "cell_type": "markdown",
   "metadata": {},
   "source": [
    "## Import Files"
   ]
  },
  {
   "cell_type": "code",
   "execution_count": 1,
   "metadata": {},
   "outputs": [],
   "source": [
    "import matplotlib.pyplot as plt"
   ]
  },
  {
   "cell_type": "markdown",
   "metadata": {},
   "source": [
    "## Insert Dataset"
   ]
  },
  {
   "cell_type": "code",
   "execution_count": 2,
   "metadata": {},
   "outputs": [],
   "source": [
    "with open('text.txt', 'r', encoding='utf-8') as file:\n",
    "    text = file.read()\n",
    "import re\n",
    "corpus = re.findall(r'\\b\\w+\\b', text)"
   ]
  },
  {
   "cell_type": "markdown",
   "metadata": {},
   "source": [
    "## Split Dataset into tokens"
   ]
  },
  {
   "cell_type": "code",
   "execution_count": 2,
   "metadata": {},
   "outputs": [],
   "source": [
    "corpus_lower = [word.lower() for word in corpus]\n",
    "corpus_vocab = set(corpus_lower)\n",
    "corpus_vocab = list(corpus_vocab)"
   ]
  },
  {
   "cell_type": "markdown",
   "metadata": {},
   "source": [
    "## Turning Tokens into N-Gram tuples"
   ]
  },
  {
   "cell_type": "code",
   "execution_count": 3,
   "metadata": {},
   "outputs": [],
   "source": [
    "# N is variable. Changing it changes the model from bigram to trigram etc.\n",
    "N = 2\n",
    "\n",
    "N_gram = {}\n",
    "N_plus_1_gram = {}\n",
    "\n",
    "for i in range(len(corpus_lower) - N):\n",
    "    N_gram_tuple = tuple(corpus_lower[i:i+N])\n",
    "    N_plus_1_gram_tuple = tuple(corpus_lower[i:i+N+1])\n",
    "\n",
    "    if N_gram_tuple in N_gram.keys():\n",
    "        N_gram[N_gram_tuple] += 1\n",
    "    else:\n",
    "        N_gram[N_gram_tuple] = 1\n",
    "        \n",
    "\n",
    "    if N_plus_1_gram_tuple in N_plus_1_gram.keys():\n",
    "        N_plus_1_gram[N_plus_1_gram_tuple] += 1\n",
    "    else:\n",
    "        N_plus_1_gram[N_plus_1_gram_tuple] = 1"
   ]
  },
  {
   "cell_type": "markdown",
   "metadata": {},
   "source": [
    "## Model to Predict Next Word"
   ]
  },
  {
   "cell_type": "code",
   "execution_count": 4,
   "metadata": {},
   "outputs": [],
   "source": [
    "def generate_text(input_text, N, N_gram, N_plus_1_gram, corpus_vocab, num_tokens):\n",
    "    words = input_text.split()\n",
    "    \n",
    "    for _ in range(num_tokens):\n",
    "        if len(words) < N:\n",
    "            next_word = \"N/A\"\n",
    "        else:\n",
    "            last_N_words = tuple(words[-N:])\n",
    "        \n",
    "            if last_N_words not in N_gram:\n",
    "                next_word = \"N/A\"\n",
    "            else:\n",
    "                denominator = N_gram[last_N_words]\n",
    "        \n",
    "                count = []\n",
    "                for word in corpus_vocab:\n",
    "                    next_word_tuple = last_N_words + (word,)\n",
    "                    if next_word_tuple in N_plus_1_gram:\n",
    "                        count.append([word, N_plus_1_gram[next_word_tuple]])\n",
    "        \n",
    "                prob_count = []\n",
    "                for word_count in count:\n",
    "                    prob_count.append([word_count[1] / denominator, word_count[0]])\n",
    "        \n",
    "                prob_count = sorted(prob_count, reverse=True)\n",
    "        \n",
    "                next_word = prob_count[0][1] if prob_count else None\n",
    "        \n",
    "                words.append(next_word)\n",
    "    \n",
    "    return ' '.join(words)\n"
   ]
  },
  {
   "cell_type": "markdown",
   "metadata": {},
   "source": [
    "## Main Testing"
   ]
  },
  {
   "cell_type": "code",
   "execution_count": 10,
   "metadata": {},
   "outputs": [
    {
     "name": "stdout",
     "output_type": "stream",
     "text": [
      "since when has the president to establish a variety of articles in stoneware and the\n"
     ]
    }
   ],
   "source": [
    "# N is variable. Changing it changes the model from bigram to trigram etc.\n",
    "N = 2\n",
    "# Set this to the number of tokens you want to generate\n",
    "num_tokens = 6\n",
    "\n",
    "\n",
    "input_text = \"since when has the president to establish a variety\"\n",
    "result = generate_text(input_text, N, N_gram, N_plus_1_gram, corpus_vocab, num_tokens)\n",
    "print(result)"
   ]
  }
 ],
 "metadata": {
  "kernelspec": {
   "display_name": "Python 3",
   "language": "python",
   "name": "python3"
  },
  "language_info": {
   "codemirror_mode": {
    "name": "ipython",
    "version": 3
   },
   "file_extension": ".py",
   "mimetype": "text/x-python",
   "name": "python",
   "nbconvert_exporter": "python",
   "pygments_lexer": "ipython3",
   "version": "3.12.3"
  }
 },
 "nbformat": 4,
 "nbformat_minor": 2
}
